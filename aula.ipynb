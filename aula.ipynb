{
 "cells": [
  {
   "cell_type": "code",
   "execution_count": 2,
   "metadata": {},
   "outputs": [
    {
     "name": "stdout",
     "output_type": "stream",
     "text": [
      "helo word!\n"
     ]
    }
   ],
   "source": [
    "print(\"helo word!\")"
   ]
  },
  {
   "cell_type": "markdown",
   "metadata": {},
   "source": [
    "# Inteligencia Artificial (guarda-chuva)\n",
    "\n",
    "- Imitação do humano \n",
    "- Ajudar o ser humano na produtividade \n",
    "- Imitar a inteligencia humana e seus sentidos\n",
    "- Reconhecer padroes e resolver problemas \n"
   ]
  },
  {
   "cell_type": "markdown",
   "metadata": {},
   "source": []
  },
  {
   "cell_type": "markdown",
   "metadata": {},
   "source": [
    "# Machine Learning \n",
    "- Supervisionado: dados rotulados \n",
    "- Não supervisionado: sem dados rotulados"
   ]
  },
  {
   "cell_type": "markdown",
   "metadata": {},
   "source": [
    "# Deep Learning \n",
    "- A diferença ele possui redes reurais "
   ]
  },
  {
   "cell_type": "markdown",
   "metadata": {},
   "source": [
    "# O que você pode fazer: \n",
    "\n",
    "- Transformar texto em áudio (falar)\n",
    "- Identificar e comparar imagens e objetos (ver)\n",
    "- Aplicar a física (raio cósmico): modelos que encapsulam funções - velocidade de processamento e entendimento da função \n",
    "- Engenharia Cívil encapsula funçes\n",
    "- Midias sociais - estao te ouvindo para oferecer um produto\n",
    "- Policia\n",
    "    viés: restrições \n",
    "    variância: flexibilidade \n",
    "    Underfitting\n",
    "    Overfitting\n",
    "- Jogos\n",
    "- Supervisionado \n",
    "- não supervisionado \n",
    "- por reforço \n",
    "- Xadrez\n",
    "\n"
   ]
  },
  {
   "cell_type": "markdown",
   "metadata": {},
   "source": [
    "## O que você pode fazer com IA:\n",
    "\n",
    "- inferir especie de uma flor a partir das medidas desta;\n",
    "- DataSet; Íris ( codigo genetico e fenotipos)\n",
    "- Transformar um digito escrito a mao em texto (string)\n",
    "- Recomenda filmes - base dataset de avaliações \n",
    "- Analise de sentimentos\n",
    "- Detectar objetos \n",
    "- Treinar um taxi autonomo \n",
    " "
   ]
  },
  {
   "cell_type": "markdown",
   "metadata": {},
   "source": [
    "# Métricas \n",
    "\n",
    "- Metrica é uma régua para medir o desempenho dos nosso modelos \n",
    "\n",
    "- Funcao de custo e otimizadoes ( discerne se a predicao é boa ou ruim ) erro quadratico médio\n",
    "\n",
    " - "
   ]
  },
  {
   "cell_type": "markdown",
   "metadata": {},
   "source": [
    "# Terminologias \n",
    "\n",
    "- Ciencia de dados: Campo academico interdisciplinar para sugestoes de insights e tomada de decisão "
   ]
  },
  {
   "cell_type": "markdown",
   "metadata": {},
   "source": [
    "- Overffiting aprendeu demais "
   ]
  },
  {
   "cell_type": "markdown",
   "metadata": {},
   "source": [
    "- underfitting não aprendeu"
   ]
  },
  {
   "cell_type": "markdown",
   "metadata": {},
   "source": [
    "- viés : restrições impostas na funcao"
   ]
  },
  {
   "cell_type": "markdown",
   "metadata": {},
   "source": [
    " - variancia : flexibilidade da tecnica em se adaptar os daos"
   ]
  },
  {
   "cell_type": "markdown",
   "metadata": {},
   "source": [
    "# Dataset: Irís"
   ]
  },
  {
   "cell_type": "code",
   "execution_count": 11,
   "metadata": {},
   "outputs": [],
   "source": [
    "url = 'https://gist.githubusercontent.com/netj/8836201/raw/6f9306ad21398ea43cba4f7d537619d0e07d5ae3/iris.csv'"
   ]
  },
  {
   "cell_type": "code",
   "execution_count": 8,
   "metadata": {},
   "outputs": [],
   "source": [
    "import pandas as pd"
   ]
  },
  {
   "cell_type": "code",
   "execution_count": 10,
   "metadata": {},
   "outputs": [],
   "source": [
    "df = pd.read_csv(url)"
   ]
  },
  {
   "cell_type": "code",
   "execution_count": null,
   "metadata": {},
   "outputs": [],
   "source": []
  }
 ],
 "metadata": {
  "kernelspec": {
   "display_name": ".venv",
   "language": "python",
   "name": "python3"
  },
  "language_info": {
   "codemirror_mode": {
    "name": "ipython",
    "version": 3
   },
   "file_extension": ".py",
   "mimetype": "text/x-python",
   "name": "python",
   "nbconvert_exporter": "python",
   "pygments_lexer": "ipython3",
   "version": "3.12.5"
  }
 },
 "nbformat": 4,
 "nbformat_minor": 2
}

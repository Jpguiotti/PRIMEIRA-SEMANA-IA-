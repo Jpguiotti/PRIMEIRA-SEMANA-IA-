{
 "cells": [
  {
   "cell_type": "code",
   "execution_count": 2,
   "metadata": {},
   "outputs": [
    {
     "name": "stdout",
     "output_type": "stream",
     "text": [
      "helo word!\n"
     ]
    }
   ],
   "source": [
    "print(\"helo word!\")"
   ]
  },
  {
   "cell_type": "markdown",
   "metadata": {},
   "source": [
    "# Inteligencia Artificial (guarda-chuva)\n",
    "\n",
    "- Imitação do humano \n",
    "- Ajudar o ser humano na produtividade \n",
    "- Imitar a inteligencia humana e seus sentidos\n",
    "- Reconhecer padroes e resolver problemas \n"
   ]
  },
  {
   "cell_type": "markdown",
   "metadata": {},
   "source": []
  },
  {
   "cell_type": "markdown",
   "metadata": {},
   "source": [
    "# Machine Learning \n",
    "- Supervisionado: dados rotulados \n",
    "- Não supervisionado: sem dados rotulados"
   ]
  },
  {
   "cell_type": "markdown",
   "metadata": {},
   "source": [
    "# Deep Learning \n",
    "- A diferença ele possui redes reurais "
   ]
  },
  {
   "cell_type": "markdown",
   "metadata": {},
   "source": [
    "# O que você pode fazer: \n",
    "\n",
    "- Transformar texto em áudio (falar)\n",
    "- Identificar e comparar imagens e objetos (ver)\n",
    "- Aplicar a física (raio cósmico): modelos que encapsulam funções - velocidade de processamento e entendimento da função \n",
    "- Engenharia Cívil encapsula funçes\n",
    "- Midias sociais - estao te ouvindo para oferecer um produto\n",
    "- Policia\n",
    "    viés: restrições \n",
    "    variância: flexibilidade \n",
    "    Underfitting\n",
    "    Overfitting\n",
    "- Jogos\n",
    "- Supervisionado \n",
    "- não supervisionado \n",
    "- por reforço \n",
    "?????????????????\n"
   ]
  }
 ],
 "metadata": {
  "kernelspec": {
   "display_name": ".venv",
   "language": "python",
   "name": "python3"
  },
  "language_info": {
   "codemirror_mode": {
    "name": "ipython",
    "version": 3
   },
   "file_extension": ".py",
   "mimetype": "text/x-python",
   "name": "python",
   "nbconvert_exporter": "python",
   "pygments_lexer": "ipython3",
   "version": "3.12.5"
  }
 },
 "nbformat": 4,
 "nbformat_minor": 2
}

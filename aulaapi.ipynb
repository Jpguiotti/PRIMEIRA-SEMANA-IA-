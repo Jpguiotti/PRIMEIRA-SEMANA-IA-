{
  "nbformat": 4,
  "nbformat_minor": 0,
  "metadata": {
    "colab": {
      "provenance": [],
      "toc_visible": true,
      "authorship_tag": "ABX9TyPR/iRHE7huIq+wEPs3r0VI",
      "include_colab_link": true
    },
    "kernelspec": {
      "name": "python3",
      "display_name": "Python 3"
    },
    "language_info": {
      "name": "python"
    }
  },
  "cells": [
    {
      "cell_type": "markdown",
      "metadata": {
        "id": "view-in-github",
        "colab_type": "text"
      },
      "source": [
        "<a href=\"https://colab.research.google.com/github/GuidoGuarda/textminingweek/blob/main/aulaapi.ipynb\" target=\"_parent\"><img src=\"https://colab.research.google.com/assets/colab-badge.svg\" alt=\"Open In Colab\"/></a>"
      ]
    },
    {
      "cell_type": "markdown",
      "source": [
        "# Aula API´s\n"
      ],
      "metadata": {
        "id": "70AUL7YwPXQK"
      }
    },
    {
      "cell_type": "markdown",
      "source": [
        "# API POKEMON\n"
      ],
      "metadata": {
        "id": "BpHYvx1sXrig"
      }
    },
    {
      "cell_type": "code",
      "source": [
        "import requests\n",
        "\n",
        "url = \"https://pokeapi.co/api/v2/pokemon/ditto\"\n",
        "\n",
        "response = requests.get(url)\n",
        "print(response)\n",
        "\n",
        "if response.status_code == 200:\n",
        "    data = response.json()\n",
        "\n",
        "    print(f\"Nome: {data['name']}\")\n",
        "    print(f\"ID: {data['id']}\")\n",
        "    print(f\"Altura: {data['height']}\")\n",
        "    print(f\"Peso: {data['weight']}\")\n",
        "\n",
        "    print(\"Tipos:\")\n",
        "    for tipo in data['types']:\n",
        "        print(f\"- {tipo['type']['name']}\")\n",
        "else:\n",
        "    print(f\"Erro {response.status_code}: Não foi possível obter os dados\")\n",
        "\n",
        "\n"
      ],
      "metadata": {
        "colab": {
          "base_uri": "https://localhost:8080/"
        },
        "id": "GvZ35BriU4X0",
        "outputId": "edee0c9a-abc4-43b2-e01c-b47bede1aaf4"
      },
      "execution_count": null,
      "outputs": [
        {
          "output_type": "stream",
          "name": "stdout",
          "text": [
            "<Response [200]>\n",
            "Nome: ditto\n",
            "ID: 132\n",
            "Altura: 3\n",
            "Peso: 40\n",
            "Tipos:\n",
            "- normal\n"
          ]
        }
      ]
    },
    {
      "cell_type": "markdown",
      "source": [
        "# API THE DOG\n"
      ],
      "metadata": {
        "id": "BZoxmBn1Xp3g"
      }
    },
    {
      "cell_type": "code",
      "source": [
        "import requests\n",
        "\n",
        "api_key = 'live_fSQXLhiKoZiFxjAmrP9piZ8vbbvaS8CfclVEkjJTWlWI0JXtVI5fbDyGqrwstAmw'\n",
        "\n",
        "url = f\"https://api.thedogapi.com/v1/images/search?api_key={api_key}\"\n",
        "response = requests.get(url)\n",
        "print(response.text)\n",
        "#tratando dados\n",
        "data = response.json()\n",
        "print(data[0]['url'])\n"
      ],
      "metadata": {
        "colab": {
          "base_uri": "https://localhost:8080/"
        },
        "id": "59MTYNFhYLn8",
        "outputId": "a7724986-340b-403e-cf4d-88c73eec27ee"
      },
      "execution_count": null,
      "outputs": [
        {
          "output_type": "stream",
          "name": "stdout",
          "text": [
            "[{\"breeds\":[{\"weight\":{\"imperial\":\"23 - 28\",\"metric\":\"10 - 13\"},\"height\":{\"imperial\":\"15.5 - 20\",\"metric\":\"39 - 51\"},\"id\":111,\"name\":\"Finnish Spitz\",\"bred_for\":\"Hunting birds, small mammals\",\"breed_group\":\"Non-Sporting\",\"life_span\":\"12 - 15 years\",\"temperament\":\"Playful, Loyal, Independent, Intelligent, Happy, Vocal\",\"reference_image_id\":\"3PjHlQbkV\"}],\"id\":\"jPiMLwaJh\",\"url\":\"https://cdn2.thedogapi.com/images/jPiMLwaJh.jpg\",\"width\":665,\"height\":644}]\n",
            "https://cdn2.thedogapi.com/images/jPiMLwaJh.jpg\n"
          ]
        }
      ]
    },
    {
      "cell_type": "markdown",
      "source": [
        "# API THE CAT"
      ],
      "metadata": {
        "id": "5UDwp_NPba3y"
      }
    },
    {
      "cell_type": "code",
      "source": [],
      "metadata": {
        "id": "P2RhrTFXcidx"
      },
      "execution_count": null,
      "outputs": []
    },
    {
      "cell_type": "code",
      "source": [
        "import requests\n",
        "\n",
        "api_key = 'live_fSQXLhiKoZiFxjAmrP9piZ8vbbvaS8CfclVEkjJTWlWI0JXtVI5fbDyGqrwstAmw'\n",
        "\n",
        "url = f\"https://api.thecatapi.com/v1/images/search?api_key={api_key}\"\n",
        "response = requests.get(url)\n",
        "print(response.text)\n",
        "#tratando dados\n",
        "data = response.json()\n",
        "print(data[0]['url'])\n"
      ],
      "metadata": {
        "colab": {
          "base_uri": "https://localhost:8080/"
        },
        "outputId": "64f64e9e-bc83-4730-c8e2-feb79d566ca1",
        "id": "VhnT9qldci0g"
      },
      "execution_count": null,
      "outputs": [
        {
          "output_type": "stream",
          "name": "stdout",
          "text": [
            "[{\"id\":\"akb\",\"url\":\"https://cdn2.thecatapi.com/images/akb.jpg\",\"width\":729,\"height\":1097}]\n",
            "https://cdn2.thecatapi.com/images/akb.jpg\n"
          ]
        }
      ]
    },
    {
      "cell_type": "markdown",
      "source": [
        "# API NASA"
      ],
      "metadata": {
        "id": "v_hgoAxflO1F"
      }
    },
    {
      "cell_type": "code",
      "source": [
        "from IPython.display import Image, display\n",
        "import requests\n",
        "#Chave da API\n",
        "api_key = \"93XcsvH8dQRboSblD1V7Qcs1uuyMciUcSTVhtcM5\"\n",
        "#Rota da API\n",
        "endpoint = \"/planetary/apod\"\n",
        "#Deifinindo URL\n",
        "url = f\"https://api.nasa.gov{endpoint}?api_key={api_key}\"\n",
        "\n",
        "response = requests.get(url).json()\n",
        "\n",
        "imagem_url = response['url']\n",
        "display(Image(url=imagem_url))\n",
        "\n",
        "#tratando dados\n",
        "print(f\"URL da imagem: {response['url']}\")\n",
        "print(f\"Título da imagem: {response['title']}\")\n",
        "print(f\"Descrição da imagem: {response['explanation']}\")\n"
      ],
      "metadata": {
        "colab": {
          "base_uri": "https://localhost:8080/",
          "height": 1000
        },
        "id": "Vds8l985mcKw",
        "outputId": "e74c6a94-0d10-4705-ea75-2b4e31d9f0e8"
      },
      "execution_count": null,
      "outputs": [
        {
          "output_type": "display_data",
          "data": {
            "text/html": [
              "<img src=\"https://apod.nasa.gov/apod/image/2409/NightTatra_Rosadzinski_960.jpg\"/>"
            ],
            "text/plain": [
              "<IPython.core.display.Image object>"
            ]
          },
          "metadata": {}
        },
        {
          "output_type": "stream",
          "name": "stdout",
          "text": [
            "URL da imagem: https://apod.nasa.gov/apod/image/2409/NightTatra_Rosadzinski_960.jpg\n",
            "Título da imagem: A Night Sky over the Tatra Mountains\n",
            "Descrição da imagem: A natural border between Slovakia and Poland is the Tatra Mountains. A prominent destination for astrophotographers, the Tatras are the highest mountain range in the Carpathians. In the featured image taken in May, one can see the center of our Milky Way galaxy with two of its famous stellar nurseries, the Lagoon and Omega Nebula, just over the top of the Tatras. Stellar nurseries are full of ionized hydrogen, a fundamental component for the formation of Earth-abundant water. As a fundamental ingredient in all known forms of life, water is a crucial element in the Universe. Such water can be seen in the foreground in the form of the Bialka River.   Portal Universe: Random APOD Generator\n"
          ]
        }
      ]
    },
    {
      "cell_type": "markdown",
      "source": [
        "# API STAR WARS"
      ],
      "metadata": {
        "id": "iT7YY-bNpQDU"
      }
    },
    {
      "cell_type": "code",
      "source": [
        "# Definindo endpoit\n",
        "endpoint = '/people'\n",
        "# Definindo URL da API\n",
        "url = f\"https://swapi.dev/api{endpoint}\"\n",
        "# Fazendo a arequisição\n",
        "response = requests.get(url).json()\n",
        "# Iterando no dicionário retornado\n",
        "for pessoa in response['results']:\n",
        "  # Tratando dados\n",
        "    print('='*40)\n",
        "    print(f\"Nome: {pessoa['name']}\")\n",
        "    print(f\"Genero: {pessoa['gender']}\")\n",
        "    print(f\"Altura: {pessoa['height']} cm\")\n",
        "    print(f\"Peso: {pessoa['mass']} kg\")\n",
        "    print(\"Participação nos filmes: \")\n",
        "    for filme_url in pessoa['films']:\n",
        "        response_filme = requests.get(filme_url).json()\n",
        "        print(f\"- {response_filme['title']}\")\n",
        "\n",
        "    print(\"Veículos: \")\n",
        "    for veiculo_url in pessoa['vehicles']:\n",
        "        response_veiculo = requests.get(veiculo_url).json()\n",
        "        print(f\"- {response_veiculo['name']}\")\n"
      ],
      "metadata": {
        "colab": {
          "base_uri": "https://localhost:8080/"
        },
        "id": "T-5NbZx3pVoy",
        "outputId": "0c302276-7328-4501-cbdb-8c0be18ea444"
      },
      "execution_count": null,
      "outputs": [
        {
          "output_type": "stream",
          "name": "stdout",
          "text": [
            "========================================\n",
            "Nome: Luke Skywalker\n",
            "Genero: male\n",
            "Altura: 172 cm\n",
            "Peso: 77 kg\n",
            "Participação nos filmes: \n",
            "- A New Hope\n",
            "- The Empire Strikes Back\n",
            "- Return of the Jedi\n",
            "- Revenge of the Sith\n",
            "Veículos: \n",
            "- Snowspeeder\n",
            "- Imperial Speeder Bike\n",
            "========================================\n",
            "Nome: C-3PO\n",
            "Genero: n/a\n",
            "Altura: 167 cm\n",
            "Peso: 75 kg\n",
            "Participação nos filmes: \n",
            "- A New Hope\n",
            "- The Empire Strikes Back\n",
            "- Return of the Jedi\n",
            "- The Phantom Menace\n",
            "- Attack of the Clones\n",
            "- Revenge of the Sith\n",
            "Veículos: \n",
            "========================================\n",
            "Nome: R2-D2\n",
            "Genero: n/a\n",
            "Altura: 96 cm\n",
            "Peso: 32 kg\n",
            "Participação nos filmes: \n",
            "- A New Hope\n",
            "- The Empire Strikes Back\n",
            "- Return of the Jedi\n",
            "- The Phantom Menace\n",
            "- Attack of the Clones\n",
            "- Revenge of the Sith\n",
            "Veículos: \n",
            "========================================\n",
            "Nome: Darth Vader\n",
            "Genero: male\n",
            "Altura: 202 cm\n",
            "Peso: 136 kg\n",
            "Participação nos filmes: \n",
            "- A New Hope\n",
            "- The Empire Strikes Back\n",
            "- Return of the Jedi\n",
            "- Revenge of the Sith\n",
            "Veículos: \n",
            "========================================\n",
            "Nome: Leia Organa\n",
            "Genero: female\n",
            "Altura: 150 cm\n",
            "Peso: 49 kg\n",
            "Participação nos filmes: \n",
            "- A New Hope\n",
            "- The Empire Strikes Back\n",
            "- Return of the Jedi\n",
            "- Revenge of the Sith\n",
            "Veículos: \n",
            "- Imperial Speeder Bike\n",
            "========================================\n",
            "Nome: Owen Lars\n",
            "Genero: male\n",
            "Altura: 178 cm\n",
            "Peso: 120 kg\n",
            "Participação nos filmes: \n",
            "- A New Hope\n",
            "- Attack of the Clones\n",
            "- Revenge of the Sith\n",
            "Veículos: \n",
            "========================================\n",
            "Nome: Beru Whitesun lars\n",
            "Genero: female\n",
            "Altura: 165 cm\n",
            "Peso: 75 kg\n",
            "Participação nos filmes: \n",
            "- A New Hope\n",
            "- Attack of the Clones\n",
            "- Revenge of the Sith\n",
            "Veículos: \n",
            "========================================\n",
            "Nome: R5-D4\n",
            "Genero: n/a\n",
            "Altura: 97 cm\n",
            "Peso: 32 kg\n",
            "Participação nos filmes: \n",
            "- A New Hope\n",
            "Veículos: \n",
            "========================================\n",
            "Nome: Biggs Darklighter\n",
            "Genero: male\n",
            "Altura: 183 cm\n",
            "Peso: 84 kg\n",
            "Participação nos filmes: \n",
            "- A New Hope\n",
            "Veículos: \n",
            "========================================\n",
            "Nome: Obi-Wan Kenobi\n",
            "Genero: male\n",
            "Altura: 182 cm\n",
            "Peso: 77 kg\n",
            "Participação nos filmes: \n",
            "- A New Hope\n",
            "- The Empire Strikes Back\n",
            "- Return of the Jedi\n",
            "- The Phantom Menace\n",
            "- Attack of the Clones\n",
            "- Revenge of the Sith\n",
            "Veículos: \n",
            "- Tribubble bongo\n"
          ]
        }
      ]
    },
    {
      "cell_type": "markdown",
      "source": [
        "# API TRIVIA"
      ],
      "metadata": {
        "id": "giNG3vRo0kg1"
      }
    },
    {
      "cell_type": "code",
      "source": [
        "# Definindo URL da API\n",
        "url = \"https://opentdb.com/api.php?amount=10\"\n",
        "# Importando o módulo requests\n",
        "import requests\n",
        "# FAzendo a requisição\n",
        "response = requests.get(url).json()\n",
        "# Iterando no dicionário retornado\n",
        "for pergunta in response['results']:\n",
        "   print(f\"Pergunta: {pergunta['question']}\")"
      ],
      "metadata": {
        "id": "BA0hQoJK1vdU",
        "outputId": "fa429721-cd85-4539-ba66-71e7f8748300",
        "colab": {
          "base_uri": "https://localhost:8080/"
        }
      },
      "execution_count": 4,
      "outputs": [
        {
          "output_type": "stream",
          "name": "stdout",
          "text": [
            "Pergunta: Minecraft wasn&rsquo;t the original name to Minecraft.\n",
            "Pergunta: The song &#039;Little April Shower&#039; features in which Disney cartoon film?\n",
            "Pergunta: What is the maximum level you can have in a single class in Dungeons and Dragons (5e)?\n",
            "Pergunta: Which country has the union jack in its flag?\n",
            "Pergunta: What is the birth name of Michael Keaton?\n",
            "Pergunta: HTML is what type of language?\n",
            "Pergunta: In 2015, David Hasselhof released a single called...\n",
            "Pergunta: On which planet does the game Freedom Planet (2014) take place?\n",
            "Pergunta: Which of these Marvel games was released on the Playstation 2?\n",
            "Pergunta: &quot;27 Club&quot; is a term used to refer to a list of famous actors, musicians, and artists who died at the age of 27.\n"
          ]
        }
      ]
    },
    {
      "cell_type": "markdown",
      "source": [
        "# Aula API concluída!!"
      ],
      "metadata": {
        "id": "JLl2aPMb2QZf"
      }
    },
    {
      "cell_type": "code",
      "source": [],
      "metadata": {
        "id": "N-wUYK3h2VKz"
      },
      "execution_count": null,
      "outputs": []
    }
  ]
}